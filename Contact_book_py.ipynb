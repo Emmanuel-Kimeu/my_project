{
  "nbformat": 4,
  "nbformat_minor": 0,
  "metadata": {
    "colab": {
      "provenance": [],
      "authorship_tag": "ABX9TyM9nuAUMchHelOIUIpGllTq",
      "include_colab_link": true
    },
    "kernelspec": {
      "name": "python3",
      "display_name": "Python 3"
    },
    "language_info": {
      "name": "python"
    }
  },
  "cells": [
    {
      "cell_type": "markdown",
      "metadata": {
        "id": "view-in-github",
        "colab_type": "text"
      },
      "source": [
        "<a href=\"https://colab.research.google.com/github/Emmanuel-Kimeu/my_project/blob/main/Contact_book_py.ipynb\" target=\"_parent\"><img src=\"https://colab.research.google.com/assets/colab-badge.svg\" alt=\"Open In Colab\"/></a>"
      ]
    },
    {
      "cell_type": "code",
      "source": [
        "# Main data structure.\n",
        "# It's an empty dictionary that will store our contacts.\n",
        "# The format will be: {\"Name\": {\"phone\": \"123-456\", \"email\": \"name@example.com\"}}\n",
        "contacts = {}\n",
        "\n",
        "def add_contact():\n",
        "    \"\"\"Lets the user add a new contact.\"\"\"\n",
        "    print(\"\\n--- Add a New Contact ---\")\n",
        "    # We will write the code for this feature later.\n",
        "    pass\n",
        "\n",
        "def view_contacts():\n",
        "    \"\"\"Displays all saved contacts.\"\"\"\n",
        "    print(\"\\n--- Your Contacts ---\")\n",
        "    # We will write the code for this feature later.\n",
        "    pass\n",
        "\n",
        "def search_contact():\n",
        "    \"\"\"Lets the user search for a contact.\"\"\"\n",
        "    print(\"\\n--- Search for a Contact ---\")\n",
        "    # We will write the code for this feature later.\n",
        "    pass\n",
        "\n",
        "def main():\n",
        "    \"\"\"The main function that runs the program.\"\"\"\n",
        "    while True: # This creates an infinite loop to keep the program running\n",
        "        # This is the main menu that the user will see.\n",
        "        print(\"\\n===== Contact Book Menu =====\")\n",
        "        print(\"1. Add a new contact\")\n",
        "        print(\"2. View all contacts\")\n",
        "        print(\"3. Search for a contact\")\n",
        "        print(\"4. Exit\")\n",
        "\n",
        "        # Get the user's choice\n",
        "        choice = input(\"Enter your choice (1-4): \")\n",
        "\n",
        "        # Act based on the user's choice\n",
        "        if choice == '1':\n",
        "            add_contact()\n",
        "        elif choice == '2':\n",
        "            view_contacts()\n",
        "        elif choice == '3':\n",
        "            search_contact()\n",
        "        elif choice == '4':\n",
        "            print(\"Goodbye!\")\n",
        "            break # This exits the while loop and ends the program\n",
        "        else:\n",
        "            print(\"Invalid choice. Please enter a number between 1 and 4.\")\n",
        "\n",
        "# This is a standard Python practice to make sure the main() function is called\n",
        "# only when the script is executed directly.\n",
        "if __name__ == \"__main__\":\n",
        "    main()"
      ],
      "metadata": {
        "colab": {
          "base_uri": "https://localhost:8080/"
        },
        "id": "8xQNcdV8E30I",
        "outputId": "a253ad90-ce2f-4dee-cf89-19f1eec142ef"
      },
      "execution_count": 8,
      "outputs": [
        {
          "output_type": "stream",
          "name": "stdout",
          "text": [
            "\n",
            "===== Contact Book Menu =====\n",
            "1. Add a new contact\n",
            "2. View all contacts\n",
            "3. Search for a contact\n",
            "4. Exit\n",
            "Enter your choice (1-4): 1\n",
            "\n",
            "--- Add a New Contact ---\n",
            "\n",
            "===== Contact Book Menu =====\n",
            "1. Add a new contact\n",
            "2. View all contacts\n",
            "3. Search for a contact\n",
            "4. Exit\n",
            "Enter your choice (1-4): 123-987\n",
            "Invalid choice. Please enter a number between 1 and 4.\n",
            "\n",
            "===== Contact Book Menu =====\n",
            "1. Add a new contact\n",
            "2. View all contacts\n",
            "3. Search for a contact\n",
            "4. Exit\n",
            "Enter your choice (1-4): 2\n",
            "\n",
            "--- Your Contacts ---\n",
            "\n",
            "===== Contact Book Menu =====\n",
            "1. Add a new contact\n",
            "2. View all contacts\n",
            "3. Search for a contact\n",
            "4. Exit\n",
            "Enter your choice (1-4): 3\n",
            "\n",
            "--- Search for a Contact ---\n",
            "\n",
            "===== Contact Book Menu =====\n",
            "1. Add a new contact\n",
            "2. View all contacts\n",
            "3. Search for a contact\n",
            "4. Exit\n",
            "Enter your choice (1-4): 4\n",
            "Goodbye!\n"
          ]
        }
      ]
    },
    {
      "cell_type": "code",
      "source": [
        "def view_contacts():\n",
        "    \"\"\"Displays all saved contacts.\"\"\"\n",
        "    print(\"\\n--- Your Contacts ---\")\n",
        "    if not contacts:  # A simple way to check if a dictionary is empty\n",
        "        print(\"You have no contacts yet.\")\n",
        "    else:\n",
        "        # .items() lets you loop through the key and value of a dictionary\n",
        "        for name, details in contacts.items():\n",
        "            # We use an f-string to easily format the output\n",
        "            print(f\"Name: {name}, Phone: {details['phone']}, Email: {details['email']}\")"
      ],
      "metadata": {
        "id": "t3yAyecpHjt0"
      },
      "execution_count": 5,
      "outputs": []
    },
    {
      "cell_type": "code",
      "source": [
        "def add_contact():\n",
        "    \"\"\"Lets the user add a new contact.\"\"\"\n",
        "    print(\"\\n--- Add a New Contact ---\")\n",
        "\n",
        "    # Get the contact details from the user\n",
        "    name = input(\"Enter the contact's name: \")\n",
        "    phone = input(\"Enter the contact's phone number: \")\n",
        "    email = input(\"Enter the contact's email address: \")\n",
        "\n",
        "    # Add the new contact to the dictionary\n",
        "    contacts[name] = {\"phone\": phone, \"email\": email}\n",
        "\n",
        "    # Confirm to the user that the contact was added\n",
        "    print(f\"Success! Contact '{name}' has been added.\")"
      ],
      "metadata": {
        "id": "-gX6yyKmK2s6"
      },
      "execution_count": 9,
      "outputs": []
    },
    {
      "cell_type": "code",
      "source": [
        "def search_contact():\n",
        "    \"\"\"Lets the user search for a contact.\"\"\"\n",
        "    print(\"\\n--- Search for a Contact ---\")\n",
        "\n",
        "    # Ask the user for the name to search for\n",
        "    name = input(\"Enter the name of the contact you want to find: \")\n",
        "\n",
        "    # Check if the name exists as a key in the dictionary\n",
        "    if name in contacts:\n",
        "        # If found, get the details and print them\n",
        "        details = contacts[name]\n",
        "        print(f\"\\n--- Contact Found ---\")\n",
        "        print(f\"Name: {name}\")\n",
        "        print(f\"Phone: {details['phone']}\")\n",
        "        print(f\"Email: {details['email']}\")\n",
        "    else:\n",
        "        # If not found, inform the user\n",
        "        print(f\"Sorry, the contact '{name}' was not found.\")\n",
        ""
      ],
      "metadata": {
        "id": "0EVvAS21LIEc"
      },
      "execution_count": 10,
      "outputs": []
    },
    {
      "cell_type": "code",
      "source": [
        "def delete_contact():\n",
        "    \"\"\"Removes a contact from the book.\"\"\"\n",
        "    print(\"\\n--- Delete a Contact ---\")\n",
        "\n",
        "    name = input(\"Enter the name of the contact you want to delete: \")\n",
        "\n",
        "    # Check if the contact exists before trying to delete\n",
        "    if name in contacts:\n",
        "        # The 'del' keyword removes the key-value pair from the dictionary\n",
        "        del contacts[name]\n",
        "        print(f\"Success! Contact '{name}' has been deleted.\")\n",
        "    else:\n",
        "        # Inform the user if the contact wasn't found\n",
        "        print(f\"Sorry, the contact '{name}' was not found.\")"
      ],
      "metadata": {
        "id": "TAalRqC7LS7C"
      },
      "execution_count": 11,
      "outputs": []
    },
    {
      "cell_type": "code",
      "source": [
        "def main():\n",
        "    \"\"\"The main function that runs the program.\"\"\"\n",
        "    while True:\n",
        "        # Updated menu with the new option\n",
        "        print(\"\\n===== Contact Book Menu =====\")\n",
        "        print(\"1. Add a new contact\")\n",
        "        print(\"2. View all contacts\")\n",
        "        print(\"3. Search for a contact\")\n",
        "        print(\"4. Delete a contact\")\n",
        "        print(\"5. Exit\")\n",
        "\n",
        "        # Get the user's choice (updated range)\n",
        "        choice = input(\"Enter your choice (1-5): \")\n",
        "\n",
        "        # Updated logic to include the delete option\n",
        "        if choice == '1':\n",
        "            add_contact()\n",
        "        elif choice == '2':\n",
        "            view_contacts()\n",
        "        elif choice == '3':\n",
        "            search_contact()\n",
        "        elif choice == '4':\n",
        "            delete_contact() # Call our new function\n",
        "        elif choice == '5':\n",
        "            print(\"Goodbye!\")\n",
        "            break\n",
        "        else:\n",
        "            print(\"Invalid choice. Please enter a number between 1 and 5.\")"
      ],
      "metadata": {
        "id": "nZ3nn_ivLYwV"
      },
      "execution_count": 12,
      "outputs": []
    },
    {
      "cell_type": "code",
      "source": [
        "import json"
      ],
      "metadata": {
        "id": "M6HuZDtfLh5G"
      },
      "execution_count": 13,
      "outputs": []
    },
    {
      "cell_type": "code",
      "source": [
        "def save_contacts_to_file():\n",
        "    \"\"\"Saves the contacts dictionary to a file named 'contacts.json'.\"\"\"\n",
        "    with open('contacts.json', 'w') as f:\n",
        "        # json.dump writes the dictionary to the file in JSON format.\n",
        "        # indent=4 makes the file easy for humans to read.\n",
        "        json.dump(contacts, f, indent=4)\n",
        "    print(\"Contacts saved successfully!\")\n",
        "\n",
        "def load_contacts_from_file():\n",
        "    \"\"\"Loads contacts from 'contacts.json' if it exists.\"\"\"\n",
        "    try:\n",
        "        with open('contacts.json', 'r') as f:\n",
        "            # The 'global' keyword is needed to modify the 'contacts' dictionary\n",
        "            # that is outside of this function.\n",
        "            global contacts\n",
        "            contacts = json.load(f)\n",
        "            print(\"Contacts loaded successfully!\")\n",
        "    except FileNotFoundError:\n",
        "        # This error happens if the file doesn't exist yet (e.g., first time running).\n",
        "        # We'll just start with an empty contact book in that case.\n",
        "        print(\"No save file found. Starting with an empty contact book.\")"
      ],
      "metadata": {
        "id": "zOuShGQvLkQ9"
      },
      "execution_count": 14,
      "outputs": []
    },
    {
      "cell_type": "code",
      "source": [
        "def main():\n",
        "    \"\"\"The main function that runs the program.\"\"\"\n",
        "    # Load any existing contacts from the file right at the start.\n",
        "    load_contacts_from_file()\n",
        "\n",
        "    while True:\n",
        "        print(\"\\n===== Contact Book Menu =====\")\n",
        "        print(\"1. Add a new contact\")\n",
        "        print(\"2. View all contacts\")\n",
        "        print(\"3. Search for a contact\")\n",
        "        print(\"4. Delete a contact\")\n",
        "        print(\"5. Exit\")\n",
        "\n",
        "        choice = input(\"Enter your choice (1-5): \")\n",
        "\n",
        "        if choice == '1':\n",
        "            add_contact()\n",
        "        elif choice == '2':\n",
        "            view_contacts()\n",
        "        elif choice == '3':\n",
        "            search_contact()\n",
        "        elif choice == '4':\n",
        "            delete_contact()\n",
        "        elif choice == '5':\n",
        "            # Save the contacts to the file before exiting.\n",
        "            save_contacts_to_file()\n",
        "            print(\"Goodbye!\")\n",
        "            break\n",
        "        else:\n",
        "            print(\"Invalid choice. Please enter a number between 1 and 5.\")"
      ],
      "metadata": {
        "id": "tg3fIxMXLuR6"
      },
      "execution_count": 15,
      "outputs": []
    }
  ]
}